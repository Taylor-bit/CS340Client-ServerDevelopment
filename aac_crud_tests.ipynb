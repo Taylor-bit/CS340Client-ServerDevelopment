{
 "cells": [
  {
   "cell_type": "code",
   "execution_count": 1,
   "id": "c35ac1fa",
   "metadata": {},
   "outputs": [],
   "source": [
    "# Import the CRUD class from the saved module\n",
    "from project_1 import AnimalShelter\n",
    "from pprint import pprint"
   ]
  },
  {
   "cell_type": "code",
   "execution_count": 2,
   "id": "765c86d9",
   "metadata": {},
   "outputs": [],
   "source": [
    "# Create AnimalShelter instance to conenct to DB\n",
    "shelter = AnimalShelter(\n",
    "                        \"aacuser\",\n",
    "                        \"BlueGold0120\",\n",
    "                        \"nv-desktop-services.apporto.com\",\n",
    "                        31860,\n",
    "                        \"AAC\",\n",
    "                        \"animals\"\n",
    "                       )"
   ]
  },
  {
   "cell_type": "code",
   "execution_count": 3,
   "id": "b1ee5ad2",
   "metadata": {},
   "outputs": [],
   "source": [
    "# Test data record\n",
    "record =   {\n",
    "    'rec_num': 51000,\n",
    "    'age_upon_outcome': '2 years',\n",
    "    'animal_id': 'ABC123',\n",
    "    'animal_type': 'Dog',\n",
    "    'breed': 'Golden Saint',\n",
    "    'color': 'Brindle',\n",
    "    'date_of_birth': '2022-12-29',\n",
    "    'datetime': '2025-01-30 11:58:00',\n",
    "    'monthyear': '2025-01-30T11:58:00',\n",
    "    'name': 'Percy',\n",
    "    'outcome_subtype': '',\n",
    "    'outcome_type': 'Return to Owner',\n",
    "    'sex_upon_outcome': 'Neutered Male',\n",
    "    'location_lat': 30.277168944418,\n",
    "    'location_long': -97.7122755507492,\n",
    "    'age_upon_outcome_in_weeks': 104.642658730159\n",
    "  }\n",
    "\n",
    "# Test Create method\n",
    "shelter.create(record)"
   ]
  },
  {
   "cell_type": "code",
   "execution_count": 4,
   "id": "ab1a5798",
   "metadata": {
    "scrolled": true
   },
   "outputs": [
    {
     "name": "stdout",
     "output_type": "stream",
     "text": [
      "[{'_id': ObjectId('67b119714b186d36d405d7b8'),\n",
      "  'age_upon_outcome': '2 years',\n",
      "  'age_upon_outcome_in_weeks': 104.642658730159,\n",
      "  'animal_id': 'ABC123',\n",
      "  'animal_type': 'Dog',\n",
      "  'breed': 'Golden Saint',\n",
      "  'color': 'Brindle',\n",
      "  'date_of_birth': '2022-12-29',\n",
      "  'datetime': '2025-01-30 11:58:00',\n",
      "  'location_lat': 30.277168944418,\n",
      "  'location_long': -97.7122755507492,\n",
      "  'monthyear': '2025-01-30T11:58:00',\n",
      "  'name': 'Percy',\n",
      "  'outcome_subtype': '',\n",
      "  'outcome_type': 'Return to Owner',\n",
      "  'rec_num': 51000,\n",
      "  'sex_upon_outcome': 'Neutered Male'}]\n"
     ]
    }
   ],
   "source": [
    "# Test Read method with new record\n",
    "result = shelter.read({\"animal_id\": \"ABC123\"})\n",
    "\n",
    "pprint(result)"
   ]
  },
  {
   "cell_type": "code",
   "execution_count": 5,
   "id": "55f7ac98",
   "metadata": {},
   "outputs": [
    {
     "name": "stdout",
     "output_type": "stream",
     "text": [
      "Successfully updated the document.\n",
      "[{'_id': ObjectId('67b119714b186d36d405d7b8'),\n",
      "  'age_upon_outcome': '5 years',\n",
      "  'age_upon_outcome_in_weeks': 104.642658730159,\n",
      "  'animal_id': 'ABC123',\n",
      "  'animal_type': 'Dog',\n",
      "  'breed': 'Mastiff Mix',\n",
      "  'color': 'Brindle',\n",
      "  'date_of_birth': '2022-12-29',\n",
      "  'datetime': '2025-01-30 11:58:00',\n",
      "  'location_lat': 30.277168944418,\n",
      "  'location_long': -97.7122755507492,\n",
      "  'monthyear': '2025-01-30T11:58:00',\n",
      "  'name': 'Hercules',\n",
      "  'outcome_subtype': '',\n",
      "  'outcome_type': 'Return to Owner',\n",
      "  'rec_num': 51000,\n",
      "  'sex_upon_outcome': 'Neutered Male'}]\n"
     ]
    }
   ],
   "source": [
    "# Test data record\n",
    "query = {'animal_id': 'ABC123'}\n",
    "update_data =   {\n",
    "    'age_upon_outcome': '5 years',\n",
    "    'breed': 'Mastiff Mix',\n",
    "    'name': 'Hercules'\n",
    "  }\n",
    "\n",
    "# Test Update method\n",
    "shelter.update(query, update_data)\n",
    "\n",
    "# Get and print the updted animal record\n",
    "result = shelter.read({\"animal_id\": \"ABC123\"})\n",
    "\n",
    "pprint(result)"
   ]
  },
  {
   "cell_type": "code",
   "execution_count": 6,
   "id": "96a83125",
   "metadata": {},
   "outputs": [
    {
     "name": "stdout",
     "output_type": "stream",
     "text": [
      "[]\n"
     ]
    }
   ],
   "source": [
    "# Test Delete method\n",
    "query = {'animal_id': 'ABC123'}\n",
    "shelter.delete(query)\n",
    "\n",
    "# Prove record was deleted\n",
    "result = shelter.read({\"animal_id\": \"ABC123\"})\n",
    "\n",
    "pprint(result)"
   ]
  }
 ],
 "metadata": {
  "kernelspec": {
   "display_name": "Python 3 (ipykernel)",
   "language": "python",
   "name": "python3"
  },
  "language_info": {
   "codemirror_mode": {
    "name": "ipython",
    "version": 3
   },
   "file_extension": ".py",
   "mimetype": "text/x-python",
   "name": "python",
   "nbconvert_exporter": "python",
   "pygments_lexer": "ipython3",
   "version": "3.9.12"
  }
 },
 "nbformat": 4,
 "nbformat_minor": 5
}
